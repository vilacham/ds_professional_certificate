{
 "cells": [
  {
   "cell_type": "markdown",
   "metadata": {},
   "source": [
    "# Section 1: Introduction to Data Visualization and Distributions\n",
    "\n",
    "This notebook introduces you to Data Visualization and Distributions."
   ]
  },
  {
   "cell_type": "markdown",
   "metadata": {},
   "source": [
    "---\n",
    "## Introduction to Data Visualization\n",
    "\n",
    "Looking at the numbers and characters at a final dataset is rarely useful. To convince ourselves, let's try to learn something from the US murders dataset. "
   ]
  },
  {
   "cell_type": "code",
   "execution_count": 2,
   "metadata": {},
   "outputs": [
    {
     "name": "stderr",
     "output_type": "stream",
     "text": [
      "Updating HTML index of packages in '.Library'\n",
      "Making 'packages.html' ... done\n"
     ]
    },
    {
     "data": {
      "text/html": [
       "<table>\n",
       "<thead><tr><th scope=col>state</th><th scope=col>abb</th><th scope=col>region</th><th scope=col>population</th><th scope=col>total</th></tr></thead>\n",
       "<tbody>\n",
       "\t<tr><td>Alabama   </td><td>AL        </td><td>South     </td><td> 4779736  </td><td> 135      </td></tr>\n",
       "\t<tr><td>Alaska    </td><td>AK        </td><td>West      </td><td>  710231  </td><td>  19      </td></tr>\n",
       "\t<tr><td>Arizona   </td><td>AZ        </td><td>West      </td><td> 6392017  </td><td> 232      </td></tr>\n",
       "\t<tr><td>Arkansas  </td><td>AR        </td><td>South     </td><td> 2915918  </td><td>  93      </td></tr>\n",
       "\t<tr><td>California</td><td>CA        </td><td>West      </td><td>37253956  </td><td>1257      </td></tr>\n",
       "\t<tr><td>Colorado  </td><td>CO        </td><td>West      </td><td> 5029196  </td><td>  65      </td></tr>\n",
       "</tbody>\n",
       "</table>\n"
      ],
      "text/latex": [
       "\\begin{tabular}{r|lllll}\n",
       " state & abb & region & population & total\\\\\n",
       "\\hline\n",
       "\t Alabama    & AL         & South      &  4779736   &  135      \\\\\n",
       "\t Alaska     & AK         & West       &   710231   &   19      \\\\\n",
       "\t Arizona    & AZ         & West       &  6392017   &  232      \\\\\n",
       "\t Arkansas   & AR         & South      &  2915918   &   93      \\\\\n",
       "\t California & CA         & West       & 37253956   & 1257      \\\\\n",
       "\t Colorado   & CO         & West       &  5029196   &   65      \\\\\n",
       "\\end{tabular}\n"
      ],
      "text/markdown": [
       "\n",
       "state | abb | region | population | total | \n",
       "|---|---|---|---|---|---|\n",
       "| Alabama    | AL         | South      |  4779736   |  135       | \n",
       "| Alaska     | AK         | West       |   710231   |   19       | \n",
       "| Arizona    | AZ         | West       |  6392017   |  232       | \n",
       "| Arkansas   | AR         | South      |  2915918   |   93       | \n",
       "| California | CA         | West       | 37253956   | 1257       | \n",
       "| Colorado   | CO         | West       |  5029196   |   65       | \n",
       "\n",
       "\n"
      ],
      "text/plain": [
       "  state      abb region population total\n",
       "1 Alabama    AL  South   4779736    135 \n",
       "2 Alaska     AK  West     710231     19 \n",
       "3 Arizona    AZ  West    6392017    232 \n",
       "4 Arkansas   AR  South   2915918     93 \n",
       "5 California CA  West   37253956   1257 \n",
       "6 Colorado   CO  West    5029196     65 "
      ]
     },
     "metadata": {},
     "output_type": "display_data"
    }
   ],
   "source": [
    "install.packages(\"dslabs\")\n",
    "library(dslabs)\n",
    "data(murders)\n",
    "head(murders)"
   ]
  },
  {
   "cell_type": "markdown",
   "metadata": {},
   "source": [
    "### Data Visualization\n",
    "\n",
    "How quickly can we determine which state has the largest population? Or which state has the smallest one? Is there a relationship between population size and the total murders? How do the murder rates vary accross regions of the country?\n",
    "\n",
    "It is very difficult to extract this informations just from looking at the numbers. In contrast, the answer to all these questions are readily from examining the right plot. Remember: __a picture is worth a thousand words__.\n",
    "\n",
    "Data visualization provides a powerful way to communicate a data driven finding, and in some cases the visualization is so convincing that no follow up analysis is required. It is the strongest tool of what we call _exploratory data analysis (EDA)_.\n",
    "\n",
    "John Tuckey, the father of exploratory data analysis, once said: \"the gratest value of a picture is when it forces us to see what we never expected to see\"."
   ]
  },
  {
   "cell_type": "markdown",
   "metadata": {},
   "source": [
    "### Distributions\n",
    "\n",
    "Numerical data is often summarized with an __average__ value. Ocassionally, a second number is reported: the __standard deviation__. An entire vector of numbers can be summarized with just these two numbers, and in some cases they are all we need to understand the data.\n",
    "\n",
    "Data visualization will help us determine when this two-number summary are appopriate, and its techniques will serve as alternative when they are not. Our first data visualization building block is learning to summarize lists of factors or numeric vectors.\n",
    "\n",
    "The most basic statistical summary of a list of objects or numbers is its __distribution__. Once a vector has been summarized as a distribution, there are several data visualization tchniques to effectively relay this information."
   ]
  },
  {
   "cell_type": "markdown",
   "metadata": {},
   "source": [
    "### Data types\n",
    "\n",
    "An important first step in deciding how to visualizar data is to know what type of data it is. We'll be working with two kind of varibles:\n",
    "\n",
    "- __categorical:__ can be divided into _ordinals_ and _non-ordinals_.\n",
    "- __numerical:__ can be divided into _discrete_ and _continuous_.\n",
    "\n",
    "Categorical data are those that can be defined by a small number of groups: sex (male, female), regions (Northeast, South, Central, West), size (small, medium, large), spiceness(mild, medium, hot), etc. Some of them can be ordered, such as size and spiceness. Note that data can be ordered even if they are not number per se.\n",
    "\n",
    "Numerical data are, as the name suggests, numbers: population size, total number of munders, height, murder rate, etc. Discrete variables have to be round numbers (such as population size and number of murders), while continuous variables are those that can take any value if measured with enough precision (like height and murder rate)."
   ]
  },
  {
   "cell_type": "markdown",
   "metadata": {},
   "source": [
    "---\n",
    "## Introduction to Distributions\n",
    "\n",
    "To begin our introdution to distributions, we'll load the heights dataset from dslabs:"
   ]
  },
  {
   "cell_type": "code",
   "execution_count": 3,
   "metadata": {},
   "outputs": [
    {
     "data": {
      "text/html": [
       "<table>\n",
       "<thead><tr><th scope=col>sex</th><th scope=col>height</th></tr></thead>\n",
       "<tbody>\n",
       "\t<tr><td>Male  </td><td>75    </td></tr>\n",
       "\t<tr><td>Male  </td><td>70    </td></tr>\n",
       "\t<tr><td>Male  </td><td>68    </td></tr>\n",
       "\t<tr><td>Male  </td><td>74    </td></tr>\n",
       "\t<tr><td>Male  </td><td>61    </td></tr>\n",
       "\t<tr><td>Female</td><td>65    </td></tr>\n",
       "</tbody>\n",
       "</table>\n"
      ],
      "text/latex": [
       "\\begin{tabular}{r|ll}\n",
       " sex & height\\\\\n",
       "\\hline\n",
       "\t Male   & 75    \\\\\n",
       "\t Male   & 70    \\\\\n",
       "\t Male   & 68    \\\\\n",
       "\t Male   & 74    \\\\\n",
       "\t Male   & 61    \\\\\n",
       "\t Female & 65    \\\\\n",
       "\\end{tabular}\n"
      ],
      "text/markdown": [
       "\n",
       "sex | height | \n",
       "|---|---|---|---|---|---|\n",
       "| Male   | 75     | \n",
       "| Male   | 70     | \n",
       "| Male   | 68     | \n",
       "| Male   | 74     | \n",
       "| Male   | 61     | \n",
       "| Female | 65     | \n",
       "\n",
       "\n"
      ],
      "text/plain": [
       "  sex    height\n",
       "1 Male   75    \n",
       "2 Male   70    \n",
       "3 Male   68    \n",
       "4 Male   74    \n",
       "5 Male   61    \n",
       "6 Female 65    "
      ]
     },
     "metadata": {},
     "output_type": "display_data"
    }
   ],
   "source": [
    "data(heights)\n",
    "head(heights)"
   ]
  },
  {
   "cell_type": "markdown",
   "metadata": {},
   "source": [
    "As said earlier, the most basic statistical summary of a list is its distribution: a compact description of a list with many elements. For example, the sex represented in the heights dataset can be summarized by the proportions of each of the two categories, male and female:"
   ]
  },
  {
   "cell_type": "code",
   "execution_count": 6,
   "metadata": {},
   "outputs": [
    {
     "data": {
      "text/plain": [
       "\n",
       "   Female      Male \n",
       "0.2266667 0.7733333 "
      ]
     },
     "metadata": {},
     "output_type": "display_data"
    }
   ],
   "source": [
    "prop.table(table(heights$sex))"
   ]
  },
  {
   "cell_type": "markdown",
   "metadata": {},
   "source": [
    "This two category _frequency table_ is the simplest form of a distribution we can form, but we don't really need to visualize it since one number describes everythng we need to know about this dataset: 22.6% are females and the rest are males. That's all we need to know."
   ]
  }
 ],
 "metadata": {
  "kernelspec": {
   "display_name": "R",
   "language": "R",
   "name": "ir"
  },
  "language_info": {
   "codemirror_mode": "r",
   "file_extension": ".r",
   "mimetype": "text/x-r-source",
   "name": "R",
   "pygments_lexer": "r",
   "version": "3.5.1"
  }
 },
 "nbformat": 4,
 "nbformat_minor": 2
}
