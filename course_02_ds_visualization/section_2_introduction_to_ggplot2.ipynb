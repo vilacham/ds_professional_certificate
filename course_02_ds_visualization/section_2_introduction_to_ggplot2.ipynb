{
 "cells": [
  {
   "cell_type": "markdown",
   "metadata": {},
   "source": [
    "# Section 2: Introduction to ggplot2\n",
    "\n",
    "This notebook introduces you to ggplot2. A lot of functions and arguments will be introduced, so it is remmended that you have a [cheat sheet](https://www.rstudio.com/wp-content/uploads/2015/03/ggplot2-cheatsheet.pdf) handy to access whenever it's necessary.\n",
    "\n",
    "Note that there are many other approaches available for creating plots in R, such as functions like _plot_, _hist_ and _boxplot_, and other packages like _grid_ and _lattice_. We use ggplot2 in this course because it breaks plots into components in a way that permits beginners to create relatively complex and aesthetically pleasing plots using syntax that is intuitive and relatively easy to remember.\n",
    "\n",
    "Also note that one limitation of ggplot is that it is designed to work exclusevely with data tables. In these data tables, rows have to be observations and columns have to be variables."
   ]
  },
  {
   "cell_type": "markdown",
   "metadata": {},
   "source": [
    "---\n",
    "## Basics of ggplot2\n",
    "\n",
    "We used ggplot2 a lot in the first notebook of this course. In this one, we will explore and understand everything we made with ggplot2, so that we can finally use it to visualize any data.\n",
    "\n",
    "The ggplot2 package can be loaded, along with dplyr and other some useful packages, by loading the tidyverse library (it is also possible to load ggplot alone with the command `library(ggplot2)`, instead of loading the entire tidyverse):"
   ]
  },
  {
   "cell_type": "code",
   "execution_count": 1,
   "metadata": {},
   "outputs": [
    {
     "name": "stderr",
     "output_type": "stream",
     "text": [
      "── Attaching packages ─────────────────────────────────────── tidyverse 1.2.1 ──\n",
      "✔ ggplot2 3.0.0     ✔ purrr   0.2.5\n",
      "✔ tibble  1.4.2     ✔ dplyr   0.7.6\n",
      "✔ tidyr   0.8.1     ✔ stringr 1.3.1\n",
      "✔ readr   1.1.1     ✔ forcats 0.3.0\n",
      "── Conflicts ────────────────────────────────────────── tidyverse_conflicts() ──\n",
      "✖ dplyr::filter() masks stats::filter()\n",
      "✖ dplyr::lag()    masks stats::lag()\n"
     ]
    }
   ],
   "source": [
    "library(tidyverse)"
   ]
  },
  {
   "cell_type": "markdown",
   "metadata": {},
   "source": [
    "As an example, we're going to construct a graph that summarizes the US murders dataset. In it, we'll be able to clearly see:\n",
    "\n",
    "- how much states vary accross population size and the total number of murders;\n",
    "- a clear relationship between murder totals and population size;\n",
    "- the average murder rate in the entire US; and\n",
    "- murder rates accross regions.\n",
    "\n",
    "The first step is learning that ggplot2 is able to break a graph into components:\n",
    "\n",
    "- data (in our case, the US murders dataset);\n",
    "- geometry (examples: scatter, bar plot, histograms, smooth densities, q-q plots, boxplots, etc.);\n",
    "- aesthetic mapping (examples: x-axis and y-axis values, colors, texts, etc.);\n",
    "- scale (examples: log2, log10, etc.);\n",
    "- labels, title, legends, style, etc.\n",
    "\n",
    "In the following sub-sections, we will construct the plot piece by piece."
   ]
  },
  {
   "cell_type": "markdown",
   "metadata": {},
   "source": [
    "---\n",
    "## Creating a New Plot\n",
    "\n",
    "Before we start creating the graph, we will import the dataset:"
   ]
  },
  {
   "cell_type": "code",
   "execution_count": 2,
   "metadata": {},
   "outputs": [],
   "source": [
    "library(dslabs)\n",
    "data(murders)"
   ]
  },
  {
   "cell_type": "markdown",
   "metadata": {},
   "source": [
    "The first step is creating a ggplot graph is to define a ggplot object, which we can do using the _ggplot_ function. It receives, as the first argument, the data that ust be associated with that object, in our case the murders dataset. We can initiate an object or pipe the data, as shown in the code cells below:"
   ]
  },
  {
   "cell_type": "code",
   "execution_count": 3,
   "metadata": {},
   "outputs": [
    {
     "data": {},
     "metadata": {},
     "output_type": "display_data"
    },
    {
     "data": {
      "image/png": "[encoded data removed]",
      "text/plain": [
       "plot without title"
      ]
     },
     "metadata": {},
     "output_type": "display_data"
    }
   ],
   "source": [
    "# Initiate an object\n",
    "ggplot(data=murders)"
   ]
  },
  {
   "cell_type": "code",
   "execution_count": 4,
   "metadata": {},
   "outputs": [
    {
     "data": {},
     "metadata": {},
     "output_type": "display_data"
    },
    {
     "data": {
      "image/png": "[encoded data removed]",
      "text/plain": [
       "plot without title"
      ]
     },
     "metadata": {},
     "output_type": "display_data"
    }
   ],
   "source": [
    "# Pipe the data\n",
    "murders %>% ggplot()"
   ]
  },
  {
   "cell_type": "markdown",
   "metadata": {},
   "source": [
    "The codes in the two cells above are equivalent. Note that both render a plot: a blank slate since no geometry has been defined with a grey background. We have created an object in both of them, and because it was not assigned, it was automatically evaluated.\n",
    "\n",
    "To avoid this, we can define an object, just as follows:"
   ]
  },
  {
   "cell_type": "code",
   "execution_count": 5,
   "metadata": {},
   "outputs": [],
   "source": [
    "p <- ggplot(data=murders)"
   ]
  },
  {
   "cell_type": "markdown",
   "metadata": {},
   "source": [
    "If we look at the class of `p`, we'll see that it is a ggplot object:"
   ]
  },
  {
   "cell_type": "code",
   "execution_count": 6,
   "metadata": {},
   "outputs": [
    {
     "data": {
      "text/html": [
       "<ol class=list-inline>\n",
       "\t<li>'gg'</li>\n",
       "\t<li>'ggplot'</li>\n",
       "</ol>\n"
      ],
      "text/latex": [
       "\\begin{enumerate*}\n",
       "\\item 'gg'\n",
       "\\item 'ggplot'\n",
       "\\end{enumerate*}\n"
      ],
      "text/markdown": [
       "1. 'gg'\n",
       "2. 'ggplot'\n",
       "\n",
       "\n"
      ],
      "text/plain": [
       "[1] \"gg\"     \"ggplot\""
      ]
     },
     "metadata": {},
     "output_type": "display_data"
    }
   ],
   "source": [
    "class(p)"
   ]
  },
  {
   "cell_type": "markdown",
   "metadata": {},
   "source": [
    "To render the plot, we simply print `p`:"
   ]
  },
  {
   "cell_type": "code",
   "execution_count": 7,
   "metadata": {},
   "outputs": [
    {
     "data": {},
     "metadata": {},
     "output_type": "display_data"
    },
    {
     "data": {
      "image/png": "[encoded data removed]",
      "text/plain": [
       "plot without title"
      ]
     },
     "metadata": {},
     "output_type": "display_data"
    }
   ],
   "source": [
    "p"
   ]
  },
  {
   "cell_type": "markdown",
   "metadata": {},
   "source": []
  }
 ],
 "metadata": {
  "kernelspec": {
   "display_name": "R",
   "language": "R",
   "name": "ir"
  },
  "language_info": {
   "codemirror_mode": "r",
   "file_extension": ".r",
   "mimetype": "text/x-r-source",
   "name": "R",
   "pygments_lexer": "r",
   "version": "3.5.1"
  }
 },
 "nbformat": 4,
 "nbformat_minor": 2
}
