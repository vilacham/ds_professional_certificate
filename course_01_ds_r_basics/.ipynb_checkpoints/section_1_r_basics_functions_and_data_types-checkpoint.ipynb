{
 "cells": [
  {
   "cell_type": "markdown",
   "metadata": {},
   "source": [
    "# Section 1: R Basics, Functions and Data Types\n",
    "\n",
    "This notebook explores the basics of R."
   ]
  },
  {
   "cell_type": "markdown",
   "metadata": {},
   "source": [
    "---\n",
    "## R Basics\n",
    "\n",
    "The first objective of this notebook is to show the concept of object.\n",
    "\n",
    "Suppose a high school student aks us for help solving a few quadratic equations of the form $ax^2 + bx + c = 0$. We know its solution is $x = \\frac{-b \\pm \\sqrt{b^2 - 4ac}} {2a}$. One advantage of using programming languages is that we can keep expressions while changing variables.\n",
    "\n",
    "For example, if we wanted to solve $x^2 + x - 1 = 0$, we could assign values to *a, b* and *c*. In R, the assignment symbol is __<-__:"
   ]
  },
  {
   "cell_type": "code",
   "execution_count": 1,
   "metadata": {},
   "outputs": [],
   "source": [
    "a <- 1\n",
    "b <- 1\n",
    "c <- -1"
   ]
  },
  {
   "cell_type": "markdown",
   "metadata": {},
   "source": [
    "You can see the values stored in each variable by just typing it and executing the line:"
   ]
  },
  {
   "cell_type": "code",
   "execution_count": 2,
   "metadata": {},
   "outputs": [
    {
     "data": {
      "text/html": [
       "1"
      ],
      "text/latex": [
       "1"
      ],
      "text/markdown": [
       "1"
      ],
      "text/plain": [
       "[1] 1"
      ]
     },
     "metadata": {},
     "output_type": "display_data"
    }
   ],
   "source": [
    "a"
   ]
  },
  {
   "cell_type": "markdown",
   "metadata": {},
   "source": [
    "A more explicit way of asking R the value of a variable is by using the __print__ function:"
   ]
  },
  {
   "cell_type": "code",
   "execution_count": 3,
   "metadata": {},
   "outputs": [
    {
     "name": "stdout",
     "output_type": "stream",
     "text": [
      "[1] 1\n"
     ]
    }
   ],
   "source": [
    "print(a)"
   ]
  },
  {
   "cell_type": "markdown",
   "metadata": {},
   "source": [
    "The term object is used to describe stuff that is stored in R. Variables are examples, but objects can also be more complicated entities such as functions.\n",
    "\n",
    "When we define objects in the console, we are actually changing what is called the workspace. We can see all the objects saved in the workspace by using the function __ls__:"
   ]
  },
  {
   "cell_type": "code",
   "execution_count": 4,
   "metadata": {},
   "outputs": [
    {
     "data": {
      "text/html": [
       "<ol class=list-inline>\n",
       "\t<li>'a'</li>\n",
       "\t<li>'b'</li>\n",
       "\t<li>'c'</li>\n",
       "</ol>\n"
      ],
      "text/latex": [
       "\\begin{enumerate*}\n",
       "\\item 'a'\n",
       "\\item 'b'\n",
       "\\item 'c'\n",
       "\\end{enumerate*}\n"
      ],
      "text/markdown": [
       "1. 'a'\n",
       "2. 'b'\n",
       "3. 'c'\n",
       "\n",
       "\n"
      ],
      "text/plain": [
       "[1] \"a\" \"b\" \"c\""
      ]
     },
     "metadata": {},
     "output_type": "display_data"
    }
   ],
   "source": [
    "ls()"
   ]
  },
  {
   "cell_type": "markdown",
   "metadata": {},
   "source": [
    "If we try to recover to value of a variable that is not in the workspace, we'll receive an error:"
   ]
  },
  {
   "cell_type": "code",
   "execution_count": 5,
   "metadata": {},
   "outputs": [
    {
     "ename": "ERROR",
     "evalue": "Error in eval(expr, envir, enclos): object 'x' not found\n",
     "output_type": "error",
     "traceback": [
      "Error in eval(expr, envir, enclos): object 'x' not found\nTraceback:\n"
     ]
    }
   ],
   "source": [
    "x"
   ]
  },
  {
   "cell_type": "markdown",
   "metadata": {},
   "source": [
    "Back to our example, if we want to obtain the solutions of the equation $x^2 + x - 1 = 0$, we can type the formula of the solution:"
   ]
  },
  {
   "cell_type": "code",
   "execution_count": 6,
   "metadata": {},
   "outputs": [
    {
     "data": {
      "text/html": [
       "0.618033988749895"
      ],
      "text/latex": [
       "0.618033988749895"
      ],
      "text/markdown": [
       "0.618033988749895"
      ],
      "text/plain": [
       "[1] 0.618034"
      ]
     },
     "metadata": {},
     "output_type": "display_data"
    },
    {
     "data": {
      "text/html": [
       "-1.61803398874989"
      ],
      "text/latex": [
       "-1.61803398874989"
      ],
      "text/markdown": [
       "-1.61803398874989"
      ],
      "text/plain": [
       "[1] -1.618034"
      ]
     },
     "metadata": {},
     "output_type": "display_data"
    }
   ],
   "source": [
    "x1 <- (-b + sqrt(b ^ 2 - 4 * a * c)) / 2 * a\n",
    "x1\n",
    "x2 <- (-b - sqrt(b ^ 2 - 4 * a * c)) / 2 * a\n",
    "x2"
   ]
  },
  {
   "cell_type": "markdown",
   "metadata": {},
   "source": [
    "---\n",
    "## Functions\n",
    "\n",
    "R includes several predefined functions, such as __print__, __ls__ and __sqrt__. Even more functions can be added through packages. \n",
    "\n",
    "It is important to note the importance of the parentheses when calling a function. To get the code of a function, we can type its name withouth the parentheses, and to execute it we have to write the parentheses, as shown below:"
   ]
  },
  {
   "cell_type": "code",
   "execution_count": 7,
   "metadata": {},
   "outputs": [
    {
     "data": {
      "text/html": [
       "<pre class=language-r><code>function (name, pos = -1L, envir = as.environment(pos), all.names = FALSE, \n",
       "<span style=white-space:pre-wrap>    pattern, sorted = TRUE) </span>\n",
       "{\n",
       "<span style=white-space:pre-wrap>    if (!missing(name)) {</span>\n",
       "<span style=white-space:pre-wrap>        pos &lt;- tryCatch(name, error = function(e) e)</span>\n",
       "<span style=white-space:pre-wrap>        if (inherits(pos, \"error\")) {</span>\n",
       "<span style=white-space:pre-wrap>            name &lt;- substitute(name)</span>\n",
       "<span style=white-space:pre-wrap>            if (!is.character(name)) </span>\n",
       "<span style=white-space:pre-wrap>                name &lt;- deparse(name)</span>\n",
       "<span style=white-space:pre-wrap>            warning(gettextf(\"%s converted to character string\", </span>\n",
       "<span style=white-space:pre-wrap>                sQuote(name)), domain = NA)</span>\n",
       "<span style=white-space:pre-wrap>            pos &lt;- name</span>\n",
       "<span style=white-space:pre-wrap>        }</span>\n",
       "<span style=white-space:pre-wrap>    }</span>\n",
       "<span style=white-space:pre-wrap>    all.names &lt;- .Internal(ls(envir, all.names, sorted))</span>\n",
       "<span style=white-space:pre-wrap>    if (!missing(pattern)) {</span>\n",
       "<span style=white-space:pre-wrap>        if ((ll &lt;- length(grep(\"[\", pattern, fixed = TRUE))) &amp;&amp; </span>\n",
       "<span style=white-space:pre-wrap>            ll != length(grep(\"]\", pattern, fixed = TRUE))) {</span>\n",
       "<span style=white-space:pre-wrap>            if (pattern == \"[\") {</span>\n",
       "<span style=white-space:pre-wrap>                pattern &lt;- \"\\\\[\"</span>\n",
       "<span style=white-space:pre-wrap>                warning(\"replaced regular expression pattern '[' by  '\\\\\\\\['\")</span>\n",
       "<span style=white-space:pre-wrap>            }</span>\n",
       "<span style=white-space:pre-wrap>            else if (length(grep(\"[^\\\\\\\\]\\\\[&lt;-\", pattern))) {</span>\n",
       "<span style=white-space:pre-wrap>                pattern &lt;- sub(\"\\\\[&lt;-\", \"\\\\\\\\\\\\[&lt;-\", pattern)</span>\n",
       "<span style=white-space:pre-wrap>                warning(\"replaced '[&lt;-' by '\\\\\\\\[&lt;-' in regular expression pattern\")</span>\n",
       "<span style=white-space:pre-wrap>            }</span>\n",
       "<span style=white-space:pre-wrap>        }</span>\n",
       "<span style=white-space:pre-wrap>        grep(pattern, all.names, value = TRUE)</span>\n",
       "<span style=white-space:pre-wrap>    }</span>\n",
       "<span style=white-space:pre-wrap>    else all.names</span>\n",
       "}</code></pre>"
      ],
      "text/latex": [
       "\\begin{minted}{r}\n",
       "function (name, pos = -1L, envir = as.environment(pos), all.names = FALSE, \n",
       "    pattern, sorted = TRUE) \n",
       "\\{\n",
       "    if (!missing(name)) \\{\n",
       "        pos <- tryCatch(name, error = function(e) e)\n",
       "        if (inherits(pos, \"error\")) \\{\n",
       "            name <- substitute(name)\n",
       "            if (!is.character(name)) \n",
       "                name <- deparse(name)\n",
       "            warning(gettextf(\"\\%s converted to character string\", \n",
       "                sQuote(name)), domain = NA)\n",
       "            pos <- name\n",
       "        \\}\n",
       "    \\}\n",
       "    all.names <- .Internal(ls(envir, all.names, sorted))\n",
       "    if (!missing(pattern)) \\{\n",
       "        if ((ll <- length(grep(\"{[}\", pattern, fixed = TRUE))) \\&\\& \n",
       "            ll != length(grep(\"{]}\", pattern, fixed = TRUE))) \\{\n",
       "            if (pattern == \"{[}\") \\{\n",
       "                pattern <- \"\\textbackslash{}\\textbackslash{}{[}\"\n",
       "                warning(\"replaced regular expression pattern '{[}' by  '\\textbackslash{}\\textbackslash{}\\textbackslash{}\\textbackslash{}{[}'\")\n",
       "            \\}\n",
       "            else if (length(grep(\"{[}\\textasciicircum{}\\textbackslash{}\\textbackslash{}\\textbackslash{}\\textbackslash{}{]}\\textbackslash{}\\textbackslash{}{[}<-\", pattern))) \\{\n",
       "                pattern <- sub(\"\\textbackslash{}\\textbackslash{}{[}<-\", \"\\textbackslash{}\\textbackslash{}\\textbackslash{}\\textbackslash{}\\textbackslash{}\\textbackslash{}{[}<-\", pattern)\n",
       "                warning(\"replaced '{[}<-' by '\\textbackslash{}\\textbackslash{}\\textbackslash{}\\textbackslash{}{[}<-' in regular expression pattern\")\n",
       "            \\}\n",
       "        \\}\n",
       "        grep(pattern, all.names, value = TRUE)\n",
       "    \\}\n",
       "    else all.names\n",
       "\\}\n",
       "\\end{minted}"
      ],
      "text/markdown": [
       "```r\n",
       "function (name, pos = -1L, envir = as.environment(pos), all.names = FALSE, \n",
       "    pattern, sorted = TRUE) \n",
       "{\n",
       "    if (!missing(name)) {\n",
       "        pos <- tryCatch(name, error = function(e) e)\n",
       "        if (inherits(pos, \"error\")) {\n",
       "            name <- substitute(name)\n",
       "            if (!is.character(name)) \n",
       "                name <- deparse(name)\n",
       "            warning(gettextf(\"%s converted to character string\", \n",
       "                sQuote(name)), domain = NA)\n",
       "            pos <- name\n",
       "        }\n",
       "    }\n",
       "    all.names <- .Internal(ls(envir, all.names, sorted))\n",
       "    if (!missing(pattern)) {\n",
       "        if ((ll <- length(grep(\"[\", pattern, fixed = TRUE))) && \n",
       "            ll != length(grep(\"]\", pattern, fixed = TRUE))) {\n",
       "            if (pattern == \"[\") {\n",
       "                pattern <- \"\\\\[\"\n",
       "                warning(\"replaced regular expression pattern '[' by  '\\\\\\\\['\")\n",
       "            }\n",
       "            else if (length(grep(\"[^\\\\\\\\]\\\\[<-\", pattern))) {\n",
       "                pattern <- sub(\"\\\\[<-\", \"\\\\\\\\\\\\[<-\", pattern)\n",
       "                warning(\"replaced '[<-' by '\\\\\\\\[<-' in regular expression pattern\")\n",
       "            }\n",
       "        }\n",
       "        grep(pattern, all.names, value = TRUE)\n",
       "    }\n",
       "    else all.names\n",
       "}\n",
       "```"
      ],
      "text/plain": [
       "function (name, pos = -1L, envir = as.environment(pos), all.names = FALSE, \n",
       "    pattern, sorted = TRUE) \n",
       "{\n",
       "    if (!missing(name)) {\n",
       "        pos <- tryCatch(name, error = function(e) e)\n",
       "        if (inherits(pos, \"error\")) {\n",
       "            name <- substitute(name)\n",
       "            if (!is.character(name)) \n",
       "                name <- deparse(name)\n",
       "            warning(gettextf(\"%s converted to character string\", \n",
       "                sQuote(name)), domain = NA)\n",
       "            pos <- name\n",
       "        }\n",
       "    }\n",
       "    all.names <- .Internal(ls(envir, all.names, sorted))\n",
       "    if (!missing(pattern)) {\n",
       "        if ((ll <- length(grep(\"[\", pattern, fixed = TRUE))) && \n",
       "            ll != length(grep(\"]\", pattern, fixed = TRUE))) {\n",
       "            if (pattern == \"[\") {\n",
       "                pattern <- \"\\\\[\"\n",
       "                warning(\"replaced regular expression pattern '[' by  '\\\\\\\\['\")\n",
       "            }\n",
       "            else if (length(grep(\"[^\\\\\\\\]\\\\[<-\", pattern))) {\n",
       "                pattern <- sub(\"\\\\[<-\", \"\\\\\\\\\\\\[<-\", pattern)\n",
       "                warning(\"replaced '[<-' by '\\\\\\\\[<-' in regular expression pattern\")\n",
       "            }\n",
       "        }\n",
       "        grep(pattern, all.names, value = TRUE)\n",
       "    }\n",
       "    else all.names\n",
       "}\n",
       "<bytecode: 0x295c2d8>\n",
       "<environment: namespace:base>"
      ]
     },
     "metadata": {},
     "output_type": "display_data"
    }
   ],
   "source": [
    "ls"
   ]
  },
  {
   "cell_type": "code",
   "execution_count": 8,
   "metadata": {},
   "outputs": [
    {
     "data": {
      "text/html": [
       "<ol class=list-inline>\n",
       "\t<li>'a'</li>\n",
       "\t<li>'b'</li>\n",
       "\t<li>'c'</li>\n",
       "\t<li>'x1'</li>\n",
       "\t<li>'x2'</li>\n",
       "</ol>\n"
      ],
      "text/latex": [
       "\\begin{enumerate*}\n",
       "\\item 'a'\n",
       "\\item 'b'\n",
       "\\item 'c'\n",
       "\\item 'x1'\n",
       "\\item 'x2'\n",
       "\\end{enumerate*}\n"
      ],
      "text/markdown": [
       "1. 'a'\n",
       "2. 'b'\n",
       "3. 'c'\n",
       "4. 'x1'\n",
       "5. 'x2'\n",
       "\n",
       "\n"
      ],
      "text/plain": [
       "[1] \"a\"  \"b\"  \"c\"  \"x1\" \"x2\""
      ]
     },
     "metadata": {},
     "output_type": "display_data"
    }
   ],
   "source": [
    "ls()"
   ]
  },
  {
   "cell_type": "markdown",
   "metadata": {},
   "source": [
    "Most of the functions require an argument to be executed. For example, the __log__ funtion, which returns the natural log of a number:"
   ]
  },
  {
   "cell_type": "code",
   "execution_count": 9,
   "metadata": {},
   "outputs": [
    {
     "data": {
      "text/html": [
       "2.07944154167984"
      ],
      "text/latex": [
       "2.07944154167984"
      ],
      "text/markdown": [
       "2.07944154167984"
      ],
      "text/plain": [
       "[1] 2.079442"
      ]
     },
     "metadata": {},
     "output_type": "display_data"
    },
    {
     "data": {
      "text/html": [
       "0"
      ],
      "text/latex": [
       "0"
      ],
      "text/markdown": [
       "0"
      ],
      "text/plain": [
       "[1] 0"
      ]
     },
     "metadata": {},
     "output_type": "display_data"
    }
   ],
   "source": [
    "log(8)\n",
    "log(a)"
   ]
  },
  {
   "cell_type": "markdown",
   "metadata": {},
   "source": [
    "In R, functions can be nested. In such cases, functions are evaluated from the inside out:"
   ]
  },
  {
   "cell_type": "code",
   "execution_count": 10,
   "metadata": {},
   "outputs": [
    {
     "data": {
      "text/html": [
       "2.71828182845905"
      ],
      "text/latex": [
       "2.71828182845905"
      ],
      "text/markdown": [
       "2.71828182845905"
      ],
      "text/plain": [
       "[1] 2.718282"
      ]
     },
     "metadata": {},
     "output_type": "display_data"
    },
    {
     "data": {
      "text/html": [
       "1"
      ],
      "text/latex": [
       "1"
      ],
      "text/markdown": [
       "1"
      ],
      "text/plain": [
       "[1] 1"
      ]
     },
     "metadata": {},
     "output_type": "display_data"
    }
   ],
   "source": [
    "exp(1)\n",
    "log(exp(1))"
   ]
  },
  {
   "cell_type": "markdown",
   "metadata": {},
   "source": [
    "To learn more about a function, we can use the function __help__ and the name of the function we want to know better as its argument. It returns a help file, which s like a user manual for the functions:"
   ]
  },
  {
   "cell_type": "code",
   "execution_count": 11,
   "metadata": {},
   "outputs": [],
   "source": [
    "help(\"log\")"
   ]
  },
  {
   "cell_type": "markdown",
   "metadata": {},
   "source": [
    "Another way of getting a help file is by typing __?__ followed by the name of the function: "
   ]
  },
  {
   "cell_type": "code",
   "execution_count": 12,
   "metadata": {},
   "outputs": [],
   "source": [
    "?log"
   ]
  },
  {
   "cell_type": "markdown",
   "metadata": {},
   "source": [
    "To get a quick reminder of the arguments of a function, we can use the __args__ function:"
   ]
  },
  {
   "cell_type": "code",
   "execution_count": 13,
   "metadata": {},
   "outputs": [
    {
     "data": {
      "text/html": [
       "<pre class=language-r><code>function (x, base = exp(1)) \n",
       "NULL</code></pre>"
      ],
      "text/latex": [
       "\\begin{minted}{r}\n",
       "function (x, base = exp(1)) \n",
       "NULL\n",
       "\\end{minted}"
      ],
      "text/markdown": [
       "```r\n",
       "function (x, base = exp(1)) \n",
       "NULL\n",
       "```"
      ],
      "text/plain": [
       "function (x, base = exp(1)) \n",
       "NULL"
      ]
     },
     "metadata": {},
     "output_type": "display_data"
    }
   ],
   "source": [
    "args(log)"
   ]
  },
  {
   "cell_type": "markdown",
   "metadata": {},
   "source": [
    "As we can see above, the default value of the base argument is 1. We can change it by typing:"
   ]
  },
  {
   "cell_type": "code",
   "execution_count": 14,
   "metadata": {},
   "outputs": [
    {
     "data": {
      "text/html": [
       "3"
      ],
      "text/latex": [
       "3"
      ],
      "text/markdown": [
       "3"
      ],
      "text/plain": [
       "[1] 3"
      ]
     },
     "metadata": {},
     "output_type": "display_data"
    }
   ],
   "source": [
    "log(8, base=2)"
   ]
  },
  {
   "cell_type": "markdown",
   "metadata": {},
   "source": [
    "It was said, earlier in this notebook, that functions need parentheses to be executed, but there are some exceptions. Among these, the most commonly used are the arithmetic and relational operators, such as the power operator:"
   ]
  },
  {
   "cell_type": "code",
   "execution_count": 15,
   "metadata": {},
   "outputs": [
    {
     "data": {
      "text/html": [
       "8"
      ],
      "text/latex": [
       "8"
      ],
      "text/markdown": [
       "8"
      ],
      "text/plain": [
       "[1] 8"
      ]
     },
     "metadata": {},
     "output_type": "display_data"
    }
   ],
   "source": [
    "2^3"
   ]
  },
  {
   "cell_type": "markdown",
   "metadata": {},
   "source": [
    "\n",
    "Functions are not the only pre-built objects in R. there are also datasets that are included for users to practice and test out functions. We can see all the availables datasets with the function __data__, and to access a dataset we can just type its name:"
   ]
  },
  {
   "cell_type": "code",
   "execution_count": 16,
   "metadata": {},
   "outputs": [
    {
     "data": {
      "text/html": [
       "<table>\n",
       "<thead><tr><th scope=col>Plant</th><th scope=col>Type</th><th scope=col>Treatment</th><th scope=col>conc</th><th scope=col>uptake</th></tr></thead>\n",
       "<tbody>\n",
       "\t<tr><td>Qn1       </td><td>Quebec    </td><td>nonchilled</td><td>  95      </td><td>16.0      </td></tr>\n",
       "\t<tr><td>Qn1       </td><td>Quebec    </td><td>nonchilled</td><td> 175      </td><td>30.4      </td></tr>\n",
       "\t<tr><td>Qn1       </td><td>Quebec    </td><td>nonchilled</td><td> 250      </td><td>34.8      </td></tr>\n",
       "\t<tr><td>Qn1       </td><td>Quebec    </td><td>nonchilled</td><td> 350      </td><td>37.2      </td></tr>\n",
       "\t<tr><td>Qn1       </td><td>Quebec    </td><td>nonchilled</td><td> 500      </td><td>35.3      </td></tr>\n",
       "\t<tr><td>Qn1       </td><td>Quebec    </td><td>nonchilled</td><td> 675      </td><td>39.2      </td></tr>\n",
       "\t<tr><td>Qn1       </td><td>Quebec    </td><td>nonchilled</td><td>1000      </td><td>39.7      </td></tr>\n",
       "\t<tr><td>Qn2       </td><td>Quebec    </td><td>nonchilled</td><td>  95      </td><td>13.6      </td></tr>\n",
       "\t<tr><td>Qn2       </td><td>Quebec    </td><td>nonchilled</td><td> 175      </td><td>27.3      </td></tr>\n",
       "\t<tr><td>Qn2       </td><td>Quebec    </td><td>nonchilled</td><td> 250      </td><td>37.1      </td></tr>\n",
       "\t<tr><td>Qn2       </td><td>Quebec    </td><td>nonchilled</td><td> 350      </td><td>41.8      </td></tr>\n",
       "\t<tr><td>Qn2       </td><td>Quebec    </td><td>nonchilled</td><td> 500      </td><td>40.6      </td></tr>\n",
       "\t<tr><td>Qn2       </td><td>Quebec    </td><td>nonchilled</td><td> 675      </td><td>41.4      </td></tr>\n",
       "\t<tr><td>Qn2       </td><td>Quebec    </td><td>nonchilled</td><td>1000      </td><td>44.3      </td></tr>\n",
       "\t<tr><td>Qn3       </td><td>Quebec    </td><td>nonchilled</td><td>  95      </td><td>16.2      </td></tr>\n",
       "\t<tr><td>Qn3       </td><td>Quebec    </td><td>nonchilled</td><td> 175      </td><td>32.4      </td></tr>\n",
       "\t<tr><td>Qn3       </td><td>Quebec    </td><td>nonchilled</td><td> 250      </td><td>40.3      </td></tr>\n",
       "\t<tr><td>Qn3       </td><td>Quebec    </td><td>nonchilled</td><td> 350      </td><td>42.1      </td></tr>\n",
       "\t<tr><td>Qn3       </td><td>Quebec    </td><td>nonchilled</td><td> 500      </td><td>42.9      </td></tr>\n",
       "\t<tr><td>Qn3       </td><td>Quebec    </td><td>nonchilled</td><td> 675      </td><td>43.9      </td></tr>\n",
       "\t<tr><td>Qn3       </td><td>Quebec    </td><td>nonchilled</td><td>1000      </td><td>45.5      </td></tr>\n",
       "\t<tr><td>Qc1       </td><td>Quebec    </td><td>chilled   </td><td>  95      </td><td>14.2      </td></tr>\n",
       "\t<tr><td>Qc1       </td><td>Quebec    </td><td>chilled   </td><td> 175      </td><td>24.1      </td></tr>\n",
       "\t<tr><td>Qc1       </td><td>Quebec    </td><td>chilled   </td><td> 250      </td><td>30.3      </td></tr>\n",
       "\t<tr><td>Qc1       </td><td>Quebec    </td><td>chilled   </td><td> 350      </td><td>34.6      </td></tr>\n",
       "\t<tr><td>Qc1       </td><td>Quebec    </td><td>chilled   </td><td> 500      </td><td>32.5      </td></tr>\n",
       "\t<tr><td>Qc1       </td><td>Quebec    </td><td>chilled   </td><td> 675      </td><td>35.4      </td></tr>\n",
       "\t<tr><td>Qc1       </td><td>Quebec    </td><td>chilled   </td><td>1000      </td><td>38.7      </td></tr>\n",
       "\t<tr><td>Qc2       </td><td>Quebec    </td><td>chilled   </td><td>  95      </td><td> 9.3      </td></tr>\n",
       "\t<tr><td>Qc2       </td><td>Quebec    </td><td>chilled   </td><td> 175      </td><td>27.3      </td></tr>\n",
       "\t<tr><td>⋮</td><td>⋮</td><td>⋮</td><td>⋮</td><td>⋮</td></tr>\n",
       "\t<tr><td>Mn2        </td><td>Mississippi</td><td>nonchilled </td><td> 675       </td><td>31.1       </td></tr>\n",
       "\t<tr><td>Mn2        </td><td>Mississippi</td><td>nonchilled </td><td>1000       </td><td>31.5       </td></tr>\n",
       "\t<tr><td>Mn3        </td><td>Mississippi</td><td>nonchilled </td><td>  95       </td><td>11.3       </td></tr>\n",
       "\t<tr><td>Mn3        </td><td>Mississippi</td><td>nonchilled </td><td> 175       </td><td>19.4       </td></tr>\n",
       "\t<tr><td>Mn3        </td><td>Mississippi</td><td>nonchilled </td><td> 250       </td><td>25.8       </td></tr>\n",
       "\t<tr><td>Mn3        </td><td>Mississippi</td><td>nonchilled </td><td> 350       </td><td>27.9       </td></tr>\n",
       "\t<tr><td>Mn3        </td><td>Mississippi</td><td>nonchilled </td><td> 500       </td><td>28.5       </td></tr>\n",
       "\t<tr><td>Mn3        </td><td>Mississippi</td><td>nonchilled </td><td> 675       </td><td>28.1       </td></tr>\n",
       "\t<tr><td>Mn3        </td><td>Mississippi</td><td>nonchilled </td><td>1000       </td><td>27.8       </td></tr>\n",
       "\t<tr><td>Mc1        </td><td>Mississippi</td><td>chilled    </td><td>  95       </td><td>10.5       </td></tr>\n",
       "\t<tr><td>Mc1        </td><td>Mississippi</td><td>chilled    </td><td> 175       </td><td>14.9       </td></tr>\n",
       "\t<tr><td>Mc1        </td><td>Mississippi</td><td>chilled    </td><td> 250       </td><td>18.1       </td></tr>\n",
       "\t<tr><td>Mc1        </td><td>Mississippi</td><td>chilled    </td><td> 350       </td><td>18.9       </td></tr>\n",
       "\t<tr><td>Mc1        </td><td>Mississippi</td><td>chilled    </td><td> 500       </td><td>19.5       </td></tr>\n",
       "\t<tr><td>Mc1        </td><td>Mississippi</td><td>chilled    </td><td> 675       </td><td>22.2       </td></tr>\n",
       "\t<tr><td>Mc1        </td><td>Mississippi</td><td>chilled    </td><td>1000       </td><td>21.9       </td></tr>\n",
       "\t<tr><td>Mc2        </td><td>Mississippi</td><td>chilled    </td><td>  95       </td><td> 7.7       </td></tr>\n",
       "\t<tr><td>Mc2        </td><td>Mississippi</td><td>chilled    </td><td> 175       </td><td>11.4       </td></tr>\n",
       "\t<tr><td>Mc2        </td><td>Mississippi</td><td>chilled    </td><td> 250       </td><td>12.3       </td></tr>\n",
       "\t<tr><td>Mc2        </td><td>Mississippi</td><td>chilled    </td><td> 350       </td><td>13.0       </td></tr>\n",
       "\t<tr><td>Mc2        </td><td>Mississippi</td><td>chilled    </td><td> 500       </td><td>12.5       </td></tr>\n",
       "\t<tr><td>Mc2        </td><td>Mississippi</td><td>chilled    </td><td> 675       </td><td>13.7       </td></tr>\n",
       "\t<tr><td>Mc2        </td><td>Mississippi</td><td>chilled    </td><td>1000       </td><td>14.4       </td></tr>\n",
       "\t<tr><td>Mc3        </td><td>Mississippi</td><td>chilled    </td><td>  95       </td><td>10.6       </td></tr>\n",
       "\t<tr><td>Mc3        </td><td>Mississippi</td><td>chilled    </td><td> 175       </td><td>18.0       </td></tr>\n",
       "\t<tr><td>Mc3        </td><td>Mississippi</td><td>chilled    </td><td> 250       </td><td>17.9       </td></tr>\n",
       "\t<tr><td>Mc3        </td><td>Mississippi</td><td>chilled    </td><td> 350       </td><td>17.9       </td></tr>\n",
       "\t<tr><td>Mc3        </td><td>Mississippi</td><td>chilled    </td><td> 500       </td><td>17.9       </td></tr>\n",
       "\t<tr><td>Mc3        </td><td>Mississippi</td><td>chilled    </td><td> 675       </td><td>18.9       </td></tr>\n",
       "\t<tr><td>Mc3        </td><td>Mississippi</td><td>chilled    </td><td>1000       </td><td>19.9       </td></tr>\n",
       "</tbody>\n",
       "</table>\n"
      ],
      "text/latex": [
       "\\begin{tabular}{r|lllll}\n",
       " Plant & Type & Treatment & conc & uptake\\\\\n",
       "\\hline\n",
       "\t Qn1        & Quebec     & nonchilled &   95       & 16.0      \\\\\n",
       "\t Qn1        & Quebec     & nonchilled &  175       & 30.4      \\\\\n",
       "\t Qn1        & Quebec     & nonchilled &  250       & 34.8      \\\\\n",
       "\t Qn1        & Quebec     & nonchilled &  350       & 37.2      \\\\\n",
       "\t Qn1        & Quebec     & nonchilled &  500       & 35.3      \\\\\n",
       "\t Qn1        & Quebec     & nonchilled &  675       & 39.2      \\\\\n",
       "\t Qn1        & Quebec     & nonchilled & 1000       & 39.7      \\\\\n",
       "\t Qn2        & Quebec     & nonchilled &   95       & 13.6      \\\\\n",
       "\t Qn2        & Quebec     & nonchilled &  175       & 27.3      \\\\\n",
       "\t Qn2        & Quebec     & nonchilled &  250       & 37.1      \\\\\n",
       "\t Qn2        & Quebec     & nonchilled &  350       & 41.8      \\\\\n",
       "\t Qn2        & Quebec     & nonchilled &  500       & 40.6      \\\\\n",
       "\t Qn2        & Quebec     & nonchilled &  675       & 41.4      \\\\\n",
       "\t Qn2        & Quebec     & nonchilled & 1000       & 44.3      \\\\\n",
       "\t Qn3        & Quebec     & nonchilled &   95       & 16.2      \\\\\n",
       "\t Qn3        & Quebec     & nonchilled &  175       & 32.4      \\\\\n",
       "\t Qn3        & Quebec     & nonchilled &  250       & 40.3      \\\\\n",
       "\t Qn3        & Quebec     & nonchilled &  350       & 42.1      \\\\\n",
       "\t Qn3        & Quebec     & nonchilled &  500       & 42.9      \\\\\n",
       "\t Qn3        & Quebec     & nonchilled &  675       & 43.9      \\\\\n",
       "\t Qn3        & Quebec     & nonchilled & 1000       & 45.5      \\\\\n",
       "\t Qc1        & Quebec     & chilled    &   95       & 14.2      \\\\\n",
       "\t Qc1        & Quebec     & chilled    &  175       & 24.1      \\\\\n",
       "\t Qc1        & Quebec     & chilled    &  250       & 30.3      \\\\\n",
       "\t Qc1        & Quebec     & chilled    &  350       & 34.6      \\\\\n",
       "\t Qc1        & Quebec     & chilled    &  500       & 32.5      \\\\\n",
       "\t Qc1        & Quebec     & chilled    &  675       & 35.4      \\\\\n",
       "\t Qc1        & Quebec     & chilled    & 1000       & 38.7      \\\\\n",
       "\t Qc2        & Quebec     & chilled    &   95       &  9.3      \\\\\n",
       "\t Qc2        & Quebec     & chilled    &  175       & 27.3      \\\\\n",
       "\t ⋮ & ⋮ & ⋮ & ⋮ & ⋮\\\\\n",
       "\t Mn2         & Mississippi & nonchilled  &  675        & 31.1       \\\\\n",
       "\t Mn2         & Mississippi & nonchilled  & 1000        & 31.5       \\\\\n",
       "\t Mn3         & Mississippi & nonchilled  &   95        & 11.3       \\\\\n",
       "\t Mn3         & Mississippi & nonchilled  &  175        & 19.4       \\\\\n",
       "\t Mn3         & Mississippi & nonchilled  &  250        & 25.8       \\\\\n",
       "\t Mn3         & Mississippi & nonchilled  &  350        & 27.9       \\\\\n",
       "\t Mn3         & Mississippi & nonchilled  &  500        & 28.5       \\\\\n",
       "\t Mn3         & Mississippi & nonchilled  &  675        & 28.1       \\\\\n",
       "\t Mn3         & Mississippi & nonchilled  & 1000        & 27.8       \\\\\n",
       "\t Mc1         & Mississippi & chilled     &   95        & 10.5       \\\\\n",
       "\t Mc1         & Mississippi & chilled     &  175        & 14.9       \\\\\n",
       "\t Mc1         & Mississippi & chilled     &  250        & 18.1       \\\\\n",
       "\t Mc1         & Mississippi & chilled     &  350        & 18.9       \\\\\n",
       "\t Mc1         & Mississippi & chilled     &  500        & 19.5       \\\\\n",
       "\t Mc1         & Mississippi & chilled     &  675        & 22.2       \\\\\n",
       "\t Mc1         & Mississippi & chilled     & 1000        & 21.9       \\\\\n",
       "\t Mc2         & Mississippi & chilled     &   95        &  7.7       \\\\\n",
       "\t Mc2         & Mississippi & chilled     &  175        & 11.4       \\\\\n",
       "\t Mc2         & Mississippi & chilled     &  250        & 12.3       \\\\\n",
       "\t Mc2         & Mississippi & chilled     &  350        & 13.0       \\\\\n",
       "\t Mc2         & Mississippi & chilled     &  500        & 12.5       \\\\\n",
       "\t Mc2         & Mississippi & chilled     &  675        & 13.7       \\\\\n",
       "\t Mc2         & Mississippi & chilled     & 1000        & 14.4       \\\\\n",
       "\t Mc3         & Mississippi & chilled     &   95        & 10.6       \\\\\n",
       "\t Mc3         & Mississippi & chilled     &  175        & 18.0       \\\\\n",
       "\t Mc3         & Mississippi & chilled     &  250        & 17.9       \\\\\n",
       "\t Mc3         & Mississippi & chilled     &  350        & 17.9       \\\\\n",
       "\t Mc3         & Mississippi & chilled     &  500        & 17.9       \\\\\n",
       "\t Mc3         & Mississippi & chilled     &  675        & 18.9       \\\\\n",
       "\t Mc3         & Mississippi & chilled     & 1000        & 19.9       \\\\\n",
       "\\end{tabular}\n"
      ],
      "text/markdown": [
       "\n",
       "Plant | Type | Treatment | conc | uptake | \n",
       "|---|---|---|---|---|---|---|---|---|---|---|---|---|---|---|---|---|---|---|---|---|---|---|---|---|---|---|---|---|---|---|---|---|---|---|---|---|---|---|---|---|---|---|---|---|---|---|---|---|---|---|---|---|---|---|---|---|---|---|---|---|\n",
       "| Qn1        | Quebec     | nonchilled |   95       | 16.0       | \n",
       "| Qn1        | Quebec     | nonchilled |  175       | 30.4       | \n",
       "| Qn1        | Quebec     | nonchilled |  250       | 34.8       | \n",
       "| Qn1        | Quebec     | nonchilled |  350       | 37.2       | \n",
       "| Qn1        | Quebec     | nonchilled |  500       | 35.3       | \n",
       "| Qn1        | Quebec     | nonchilled |  675       | 39.2       | \n",
       "| Qn1        | Quebec     | nonchilled | 1000       | 39.7       | \n",
       "| Qn2        | Quebec     | nonchilled |   95       | 13.6       | \n",
       "| Qn2        | Quebec     | nonchilled |  175       | 27.3       | \n",
       "| Qn2        | Quebec     | nonchilled |  250       | 37.1       | \n",
       "| Qn2        | Quebec     | nonchilled |  350       | 41.8       | \n",
       "| Qn2        | Quebec     | nonchilled |  500       | 40.6       | \n",
       "| Qn2        | Quebec     | nonchilled |  675       | 41.4       | \n",
       "| Qn2        | Quebec     | nonchilled | 1000       | 44.3       | \n",
       "| Qn3        | Quebec     | nonchilled |   95       | 16.2       | \n",
       "| Qn3        | Quebec     | nonchilled |  175       | 32.4       | \n",
       "| Qn3        | Quebec     | nonchilled |  250       | 40.3       | \n",
       "| Qn3        | Quebec     | nonchilled |  350       | 42.1       | \n",
       "| Qn3        | Quebec     | nonchilled |  500       | 42.9       | \n",
       "| Qn3        | Quebec     | nonchilled |  675       | 43.9       | \n",
       "| Qn3        | Quebec     | nonchilled | 1000       | 45.5       | \n",
       "| Qc1        | Quebec     | chilled    |   95       | 14.2       | \n",
       "| Qc1        | Quebec     | chilled    |  175       | 24.1       | \n",
       "| Qc1        | Quebec     | chilled    |  250       | 30.3       | \n",
       "| Qc1        | Quebec     | chilled    |  350       | 34.6       | \n",
       "| Qc1        | Quebec     | chilled    |  500       | 32.5       | \n",
       "| Qc1        | Quebec     | chilled    |  675       | 35.4       | \n",
       "| Qc1        | Quebec     | chilled    | 1000       | 38.7       | \n",
       "| Qc2        | Quebec     | chilled    |   95       |  9.3       | \n",
       "| Qc2        | Quebec     | chilled    |  175       | 27.3       | \n",
       "| ⋮ | ⋮ | ⋮ | ⋮ | ⋮ | \n",
       "| Mn2         | Mississippi | nonchilled  |  675        | 31.1        | \n",
       "| Mn2         | Mississippi | nonchilled  | 1000        | 31.5        | \n",
       "| Mn3         | Mississippi | nonchilled  |   95        | 11.3        | \n",
       "| Mn3         | Mississippi | nonchilled  |  175        | 19.4        | \n",
       "| Mn3         | Mississippi | nonchilled  |  250        | 25.8        | \n",
       "| Mn3         | Mississippi | nonchilled  |  350        | 27.9        | \n",
       "| Mn3         | Mississippi | nonchilled  |  500        | 28.5        | \n",
       "| Mn3         | Mississippi | nonchilled  |  675        | 28.1        | \n",
       "| Mn3         | Mississippi | nonchilled  | 1000        | 27.8        | \n",
       "| Mc1         | Mississippi | chilled     |   95        | 10.5        | \n",
       "| Mc1         | Mississippi | chilled     |  175        | 14.9        | \n",
       "| Mc1         | Mississippi | chilled     |  250        | 18.1        | \n",
       "| Mc1         | Mississippi | chilled     |  350        | 18.9        | \n",
       "| Mc1         | Mississippi | chilled     |  500        | 19.5        | \n",
       "| Mc1         | Mississippi | chilled     |  675        | 22.2        | \n",
       "| Mc1         | Mississippi | chilled     | 1000        | 21.9        | \n",
       "| Mc2         | Mississippi | chilled     |   95        |  7.7        | \n",
       "| Mc2         | Mississippi | chilled     |  175        | 11.4        | \n",
       "| Mc2         | Mississippi | chilled     |  250        | 12.3        | \n",
       "| Mc2         | Mississippi | chilled     |  350        | 13.0        | \n",
       "| Mc2         | Mississippi | chilled     |  500        | 12.5        | \n",
       "| Mc2         | Mississippi | chilled     |  675        | 13.7        | \n",
       "| Mc2         | Mississippi | chilled     | 1000        | 14.4        | \n",
       "| Mc3         | Mississippi | chilled     |   95        | 10.6        | \n",
       "| Mc3         | Mississippi | chilled     |  175        | 18.0        | \n",
       "| Mc3         | Mississippi | chilled     |  250        | 17.9        | \n",
       "| Mc3         | Mississippi | chilled     |  350        | 17.9        | \n",
       "| Mc3         | Mississippi | chilled     |  500        | 17.9        | \n",
       "| Mc3         | Mississippi | chilled     |  675        | 18.9        | \n",
       "| Mc3         | Mississippi | chilled     | 1000        | 19.9        | \n",
       "\n",
       "\n"
      ],
      "text/plain": [
       "   Plant Type        Treatment  conc uptake\n",
       "1  Qn1   Quebec      nonchilled   95 16.0  \n",
       "2  Qn1   Quebec      nonchilled  175 30.4  \n",
       "3  Qn1   Quebec      nonchilled  250 34.8  \n",
       "4  Qn1   Quebec      nonchilled  350 37.2  \n",
       "5  Qn1   Quebec      nonchilled  500 35.3  \n",
       "6  Qn1   Quebec      nonchilled  675 39.2  \n",
       "7  Qn1   Quebec      nonchilled 1000 39.7  \n",
       "8  Qn2   Quebec      nonchilled   95 13.6  \n",
       "9  Qn2   Quebec      nonchilled  175 27.3  \n",
       "10 Qn2   Quebec      nonchilled  250 37.1  \n",
       "11 Qn2   Quebec      nonchilled  350 41.8  \n",
       "12 Qn2   Quebec      nonchilled  500 40.6  \n",
       "13 Qn2   Quebec      nonchilled  675 41.4  \n",
       "14 Qn2   Quebec      nonchilled 1000 44.3  \n",
       "15 Qn3   Quebec      nonchilled   95 16.2  \n",
       "16 Qn3   Quebec      nonchilled  175 32.4  \n",
       "17 Qn3   Quebec      nonchilled  250 40.3  \n",
       "18 Qn3   Quebec      nonchilled  350 42.1  \n",
       "19 Qn3   Quebec      nonchilled  500 42.9  \n",
       "20 Qn3   Quebec      nonchilled  675 43.9  \n",
       "21 Qn3   Quebec      nonchilled 1000 45.5  \n",
       "22 Qc1   Quebec      chilled      95 14.2  \n",
       "23 Qc1   Quebec      chilled     175 24.1  \n",
       "24 Qc1   Quebec      chilled     250 30.3  \n",
       "25 Qc1   Quebec      chilled     350 34.6  \n",
       "26 Qc1   Quebec      chilled     500 32.5  \n",
       "27 Qc1   Quebec      chilled     675 35.4  \n",
       "28 Qc1   Quebec      chilled    1000 38.7  \n",
       "29 Qc2   Quebec      chilled      95  9.3  \n",
       "30 Qc2   Quebec      chilled     175 27.3  \n",
       "⋮  ⋮     ⋮           ⋮          ⋮    ⋮     \n",
       "55 Mn2   Mississippi nonchilled  675 31.1  \n",
       "56 Mn2   Mississippi nonchilled 1000 31.5  \n",
       "57 Mn3   Mississippi nonchilled   95 11.3  \n",
       "58 Mn3   Mississippi nonchilled  175 19.4  \n",
       "59 Mn3   Mississippi nonchilled  250 25.8  \n",
       "60 Mn3   Mississippi nonchilled  350 27.9  \n",
       "61 Mn3   Mississippi nonchilled  500 28.5  \n",
       "62 Mn3   Mississippi nonchilled  675 28.1  \n",
       "63 Mn3   Mississippi nonchilled 1000 27.8  \n",
       "64 Mc1   Mississippi chilled      95 10.5  \n",
       "65 Mc1   Mississippi chilled     175 14.9  \n",
       "66 Mc1   Mississippi chilled     250 18.1  \n",
       "67 Mc1   Mississippi chilled     350 18.9  \n",
       "68 Mc1   Mississippi chilled     500 19.5  \n",
       "69 Mc1   Mississippi chilled     675 22.2  \n",
       "70 Mc1   Mississippi chilled    1000 21.9  \n",
       "71 Mc2   Mississippi chilled      95  7.7  \n",
       "72 Mc2   Mississippi chilled     175 11.4  \n",
       "73 Mc2   Mississippi chilled     250 12.3  \n",
       "74 Mc2   Mississippi chilled     350 13.0  \n",
       "75 Mc2   Mississippi chilled     500 12.5  \n",
       "76 Mc2   Mississippi chilled     675 13.7  \n",
       "77 Mc2   Mississippi chilled    1000 14.4  \n",
       "78 Mc3   Mississippi chilled      95 10.6  \n",
       "79 Mc3   Mississippi chilled     175 18.0  \n",
       "80 Mc3   Mississippi chilled     250 17.9  \n",
       "81 Mc3   Mississippi chilled     350 17.9  \n",
       "82 Mc3   Mississippi chilled     500 17.9  \n",
       "83 Mc3   Mississippi chilled     675 18.9  \n",
       "84 Mc3   Mississippi chilled    1000 19.9  "
      ]
     },
     "metadata": {},
     "output_type": "display_data"
    }
   ],
   "source": [
    "data()\n",
    "CO2"
   ]
  },
  {
   "cell_type": "markdown",
   "metadata": {},
   "source": [
    "There are other pre-built mathematical objects in R, such as the constant for pi and the infinity number:"
   ]
  },
  {
   "cell_type": "code",
   "execution_count": 17,
   "metadata": {},
   "outputs": [
    {
     "data": {
      "text/html": [
       "3.14159265358979"
      ],
      "text/latex": [
       "3.14159265358979"
      ],
      "text/markdown": [
       "3.14159265358979"
      ],
      "text/plain": [
       "[1] 3.141593"
      ]
     },
     "metadata": {},
     "output_type": "display_data"
    },
    {
     "data": {
      "text/html": [
       "Inf"
      ],
      "text/latex": [
       "Inf"
      ],
      "text/markdown": [
       "Inf"
      ],
      "text/plain": [
       "[1] Inf"
      ]
     },
     "metadata": {},
     "output_type": "display_data"
    }
   ],
   "source": [
    "pi\n",
    "Inf"
   ]
  },
  {
   "cell_type": "markdown",
   "metadata": {},
   "source": [
    "When defining variables, it is important to follow two basic rules:\n",
    "\n",
    "- they have to start with a letter; and\n",
    "- they can't contain spaces.\n",
    "\n",
    "It is also important to avoid using names that are already predefined in R, suh as _pi_.\n",
    "\n",
    "A nice convention to follow is to use meaningful words that describe what is scored, stick to lowercase and use underscores:"
   ]
  },
  {
   "cell_type": "code",
   "execution_count": 18,
   "metadata": {},
   "outputs": [
    {
     "data": {
      "text/html": [
       "0.618033988749895"
      ],
      "text/latex": [
       "0.618033988749895"
      ],
      "text/markdown": [
       "0.618033988749895"
      ],
      "text/plain": [
       "[1] 0.618034"
      ]
     },
     "metadata": {},
     "output_type": "display_data"
    },
    {
     "data": {
      "text/html": [
       "-1.61803398874989"
      ],
      "text/latex": [
       "-1.61803398874989"
      ],
      "text/markdown": [
       "-1.61803398874989"
      ],
      "text/plain": [
       "[1] -1.618034"
      ]
     },
     "metadata": {},
     "output_type": "display_data"
    }
   ],
   "source": [
    "solution_1 <- (-b + sqrt(b ^ 2 - 4 * a * c)) / 2 * a\n",
    "solution_1\n",
    "solution_2 <- (-b - sqrt(b ^ 2 - 4 * a * c)) / 2 * a\n",
    "solution_2"
   ]
  },
  {
   "cell_type": "markdown",
   "metadata": {},
   "source": [
    "When we write our code, we're going to write them into scripts. For example, if we wanted to solve another quadratic equation, such as $3x^2 + 2x - 1 = 0$, we could just simply redefine _a, b_ and _c_. If we create this script, we don't have to rewrite everythong again, but just change these three variables."
   ]
  },
  {
   "cell_type": "code",
   "execution_count": 19,
   "metadata": {},
   "outputs": [],
   "source": [
    "a <- 3\n",
    "b <- 2\n",
    "c <- -1"
   ]
  },
  {
   "cell_type": "markdown",
   "metadata": {},
   "source": [
    "Finally, another way to make our code more readable is by including comments. To do so, we just need to start a line with _#_:"
   ]
  },
  {
   "cell_type": "code",
   "execution_count": 20,
   "metadata": {},
   "outputs": [
    {
     "name": "stdout",
     "output_type": "stream",
     "text": [
      "[1] 3\n",
      "[1] -9\n"
     ]
    }
   ],
   "source": [
    "# Define variables\n",
    "a <- 3\n",
    "b <- 2\n",
    "c <- -1\n",
    "\n",
    "# Compute solutions\n",
    "solution_1 <- (-b + sqrt(b ^ 2 - 4 * a * c)) / 2 * a\n",
    "solution_2 <- (-b - sqrt(b ^ 2 - 4 * a * c)) / 2 * a\n",
    "\n",
    "# Print solutions\n",
    "print(solution_1)\n",
    "print(solution_2)"
   ]
  },
  {
   "cell_type": "markdown",
   "metadata": {},
   "source": [
    "---\n",
    "## Data types\n",
    "\n",
    "Variables in R can be of different types. For example, we need to distinguish number from strings abd tables from simple lists of numbers. The function __class__ helps us determine the type of an object:"
   ]
  },
  {
   "cell_type": "code",
   "execution_count": 21,
   "metadata": {},
   "outputs": [
    {
     "data": {
      "text/html": [
       "'numeric'"
      ],
      "text/latex": [
       "'numeric'"
      ],
      "text/markdown": [
       "'numeric'"
      ],
      "text/plain": [
       "[1] \"numeric\""
      ]
     },
     "metadata": {},
     "output_type": "display_data"
    },
    {
     "data": {
      "text/html": [
       "'character'"
      ],
      "text/latex": [
       "'character'"
      ],
      "text/markdown": [
       "'character'"
      ],
      "text/plain": [
       "[1] \"character\""
      ]
     },
     "metadata": {},
     "output_type": "display_data"
    },
    {
     "data": {
      "text/html": [
       "'function'"
      ],
      "text/latex": [
       "'function'"
      ],
      "text/markdown": [
       "'function'"
      ],
      "text/plain": [
       "[1] \"function\""
      ]
     },
     "metadata": {},
     "output_type": "display_data"
    }
   ],
   "source": [
    "class(5)\n",
    "class(\"hello\")\n",
    "class(ls)"
   ]
  },
  {
   "cell_type": "markdown",
   "metadata": {},
   "source": [
    "The most common way of storing data in R is with _data frames_. Conceptually, we can think of data frames as tables. Rows represents observations and columns represents different variables. Data frames are particularly useful for datasets because we can combine different types into one single object.\n",
    "\n",
    "To make it easier to understand, in the code cell below we install the __dslabs__ package, load the __murders__ dataset."
   ]
  },
  {
   "cell_type": "code",
   "execution_count": 22,
   "metadata": {},
   "outputs": [
    {
     "name": "stderr",
     "output_type": "stream",
     "text": [
      "Updating HTML index of packages in '.Library'\n",
      "Making 'packages.html' ... done\n"
     ]
    },
    {
     "data": {
      "text/html": [
       "'data.frame'"
      ],
      "text/latex": [
       "'data.frame'"
      ],
      "text/markdown": [
       "'data.frame'"
      ],
      "text/plain": [
       "[1] \"data.frame\""
      ]
     },
     "metadata": {},
     "output_type": "display_data"
    }
   ],
   "source": [
    "install.packages(\"dslabs\")\n",
    "library(dslabs)\n",
    "data(murders)\n",
    "class(murders)"
   ]
  },
  {
   "cell_type": "markdown",
   "metadata": {},
   "source": [
    "The function __str__ is useful when working with data frames because it shows us the structure of the object: "
   ]
  },
  {
   "cell_type": "code",
   "execution_count": 23,
   "metadata": {},
   "outputs": [
    {
     "name": "stdout",
     "output_type": "stream",
     "text": [
      "'data.frame':\t51 obs. of  5 variables:\n",
      " $ state     : chr  \"Alabama\" \"Alaska\" \"Arizona\" \"Arkansas\" ...\n",
      " $ abb       : chr  \"AL\" \"AK\" \"AZ\" \"AR\" ...\n",
      " $ region    : Factor w/ 4 levels \"Northeast\",\"South\",..: 2 4 4 2 4 4 1 2 2 2 ...\n",
      " $ population: num  4779736 710231 6392017 2915918 37253956 ...\n",
      " $ total     : num  135 19 232 93 1257 ...\n"
     ]
    }
   ],
   "source": [
    "str(murders)"
   ]
  },
  {
   "cell_type": "markdown",
   "metadata": {},
   "source": [
    "From the output of the code cell above, we can see that the object _murders_ is a data frama that contains 51 observations and 5 variables. We can also see the names and types of these variables, as well as some occurrances of them in the dataset.\n",
    "\n",
    "Another way of getting the names of the columns is by using the __names__ function:"
   ]
  },
  {
   "cell_type": "code",
   "execution_count": 24,
   "metadata": {},
   "outputs": [
    {
     "data": {
      "text/html": [
       "<ol class=list-inline>\n",
       "\t<li>'state'</li>\n",
       "\t<li>'abb'</li>\n",
       "\t<li>'region'</li>\n",
       "\t<li>'population'</li>\n",
       "\t<li>'total'</li>\n",
       "</ol>\n"
      ],
      "text/latex": [
       "\\begin{enumerate*}\n",
       "\\item 'state'\n",
       "\\item 'abb'\n",
       "\\item 'region'\n",
       "\\item 'population'\n",
       "\\item 'total'\n",
       "\\end{enumerate*}\n"
      ],
      "text/markdown": [
       "1. 'state'\n",
       "2. 'abb'\n",
       "3. 'region'\n",
       "4. 'population'\n",
       "5. 'total'\n",
       "\n",
       "\n"
      ],
      "text/plain": [
       "[1] \"state\"      \"abb\"        \"region\"     \"population\" \"total\"     "
      ]
     },
     "metadata": {},
     "output_type": "display_data"
    }
   ],
   "source": [
    "names(murders)"
   ]
  },
  {
   "cell_type": "markdown",
   "metadata": {},
   "source": [
    "We can see the first lines of the data frame using the function __head__:"
   ]
  },
  {
   "cell_type": "code",
   "execution_count": 25,
   "metadata": {},
   "outputs": [
    {
     "data": {
      "text/html": [
       "<table>\n",
       "<thead><tr><th scope=col>state</th><th scope=col>abb</th><th scope=col>region</th><th scope=col>population</th><th scope=col>total</th></tr></thead>\n",
       "<tbody>\n",
       "\t<tr><td>Alabama   </td><td>AL        </td><td>South     </td><td> 4779736  </td><td> 135      </td></tr>\n",
       "\t<tr><td>Alaska    </td><td>AK        </td><td>West      </td><td>  710231  </td><td>  19      </td></tr>\n",
       "\t<tr><td>Arizona   </td><td>AZ        </td><td>West      </td><td> 6392017  </td><td> 232      </td></tr>\n",
       "\t<tr><td>Arkansas  </td><td>AR        </td><td>South     </td><td> 2915918  </td><td>  93      </td></tr>\n",
       "\t<tr><td>California</td><td>CA        </td><td>West      </td><td>37253956  </td><td>1257      </td></tr>\n",
       "\t<tr><td>Colorado  </td><td>CO        </td><td>West      </td><td> 5029196  </td><td>  65      </td></tr>\n",
       "</tbody>\n",
       "</table>\n"
      ],
      "text/latex": [
       "\\begin{tabular}{r|lllll}\n",
       " state & abb & region & population & total\\\\\n",
       "\\hline\n",
       "\t Alabama    & AL         & South      &  4779736   &  135      \\\\\n",
       "\t Alaska     & AK         & West       &   710231   &   19      \\\\\n",
       "\t Arizona    & AZ         & West       &  6392017   &  232      \\\\\n",
       "\t Arkansas   & AR         & South      &  2915918   &   93      \\\\\n",
       "\t California & CA         & West       & 37253956   & 1257      \\\\\n",
       "\t Colorado   & CO         & West       &  5029196   &   65      \\\\\n",
       "\\end{tabular}\n"
      ],
      "text/markdown": [
       "\n",
       "state | abb | region | population | total | \n",
       "|---|---|---|---|---|---|\n",
       "| Alabama    | AL         | South      |  4779736   |  135       | \n",
       "| Alaska     | AK         | West       |   710231   |   19       | \n",
       "| Arizona    | AZ         | West       |  6392017   |  232       | \n",
       "| Arkansas   | AR         | South      |  2915918   |   93       | \n",
       "| California | CA         | West       | 37253956   | 1257       | \n",
       "| Colorado   | CO         | West       |  5029196   |   65       | \n",
       "\n",
       "\n"
      ],
      "text/plain": [
       "  state      abb region population total\n",
       "1 Alabama    AL  South   4779736    135 \n",
       "2 Alaska     AK  West     710231     19 \n",
       "3 Arizona    AZ  West    6392017    232 \n",
       "4 Arkansas   AR  South   2915918     93 \n",
       "5 California CA  West   37253956   1257 \n",
       "6 Colorado   CO  West    5029196     65 "
      ]
     },
     "metadata": {},
     "output_type": "display_data"
    }
   ],
   "source": [
    "head(murders)"
   ]
  },
  {
   "cell_type": "markdown",
   "metadata": {},
   "source": [
    "To access the values in a column (a variable), we must use the __$__ symbol. In the example below, we access the values of population in the murders dataset:"
   ]
  },
  {
   "cell_type": "code",
   "execution_count": 26,
   "metadata": {},
   "outputs": [
    {
     "data": {
      "text/html": [
       "<ol class=list-inline>\n",
       "\t<li>4779736</li>\n",
       "\t<li>710231</li>\n",
       "\t<li>6392017</li>\n",
       "\t<li>2915918</li>\n",
       "\t<li>37253956</li>\n",
       "\t<li>5029196</li>\n",
       "\t<li>3574097</li>\n",
       "\t<li>897934</li>\n",
       "\t<li>601723</li>\n",
       "\t<li>19687653</li>\n",
       "\t<li>9920000</li>\n",
       "\t<li>1360301</li>\n",
       "\t<li>1567582</li>\n",
       "\t<li>12830632</li>\n",
       "\t<li>6483802</li>\n",
       "\t<li>3046355</li>\n",
       "\t<li>2853118</li>\n",
       "\t<li>4339367</li>\n",
       "\t<li>4533372</li>\n",
       "\t<li>1328361</li>\n",
       "\t<li>5773552</li>\n",
       "\t<li>6547629</li>\n",
       "\t<li>9883640</li>\n",
       "\t<li>5303925</li>\n",
       "\t<li>2967297</li>\n",
       "\t<li>5988927</li>\n",
       "\t<li>989415</li>\n",
       "\t<li>1826341</li>\n",
       "\t<li>2700551</li>\n",
       "\t<li>1316470</li>\n",
       "\t<li>8791894</li>\n",
       "\t<li>2059179</li>\n",
       "\t<li>19378102</li>\n",
       "\t<li>9535483</li>\n",
       "\t<li>672591</li>\n",
       "\t<li>11536504</li>\n",
       "\t<li>3751351</li>\n",
       "\t<li>3831074</li>\n",
       "\t<li>12702379</li>\n",
       "\t<li>1052567</li>\n",
       "\t<li>4625364</li>\n",
       "\t<li>814180</li>\n",
       "\t<li>6346105</li>\n",
       "\t<li>25145561</li>\n",
       "\t<li>2763885</li>\n",
       "\t<li>625741</li>\n",
       "\t<li>8001024</li>\n",
       "\t<li>6724540</li>\n",
       "\t<li>1852994</li>\n",
       "\t<li>5686986</li>\n",
       "\t<li>563626</li>\n",
       "</ol>\n"
      ],
      "text/latex": [
       "\\begin{enumerate*}\n",
       "\\item 4779736\n",
       "\\item 710231\n",
       "\\item 6392017\n",
       "\\item 2915918\n",
       "\\item 37253956\n",
       "\\item 5029196\n",
       "\\item 3574097\n",
       "\\item 897934\n",
       "\\item 601723\n",
       "\\item 19687653\n",
       "\\item 9920000\n",
       "\\item 1360301\n",
       "\\item 1567582\n",
       "\\item 12830632\n",
       "\\item 6483802\n",
       "\\item 3046355\n",
       "\\item 2853118\n",
       "\\item 4339367\n",
       "\\item 4533372\n",
       "\\item 1328361\n",
       "\\item 5773552\n",
       "\\item 6547629\n",
       "\\item 9883640\n",
       "\\item 5303925\n",
       "\\item 2967297\n",
       "\\item 5988927\n",
       "\\item 989415\n",
       "\\item 1826341\n",
       "\\item 2700551\n",
       "\\item 1316470\n",
       "\\item 8791894\n",
       "\\item 2059179\n",
       "\\item 19378102\n",
       "\\item 9535483\n",
       "\\item 672591\n",
       "\\item 11536504\n",
       "\\item 3751351\n",
       "\\item 3831074\n",
       "\\item 12702379\n",
       "\\item 1052567\n",
       "\\item 4625364\n",
       "\\item 814180\n",
       "\\item 6346105\n",
       "\\item 25145561\n",
       "\\item 2763885\n",
       "\\item 625741\n",
       "\\item 8001024\n",
       "\\item 6724540\n",
       "\\item 1852994\n",
       "\\item 5686986\n",
       "\\item 563626\n",
       "\\end{enumerate*}\n"
      ],
      "text/markdown": [
       "1. 4779736\n",
       "2. 710231\n",
       "3. 6392017\n",
       "4. 2915918\n",
       "5. 37253956\n",
       "6. 5029196\n",
       "7. 3574097\n",
       "8. 897934\n",
       "9. 601723\n",
       "10. 19687653\n",
       "11. 9920000\n",
       "12. 1360301\n",
       "13. 1567582\n",
       "14. 12830632\n",
       "15. 6483802\n",
       "16. 3046355\n",
       "17. 2853118\n",
       "18. 4339367\n",
       "19. 4533372\n",
       "20. 1328361\n",
       "21. 5773552\n",
       "22. 6547629\n",
       "23. 9883640\n",
       "24. 5303925\n",
       "25. 2967297\n",
       "26. 5988927\n",
       "27. 989415\n",
       "28. 1826341\n",
       "29. 2700551\n",
       "30. 1316470\n",
       "31. 8791894\n",
       "32. 2059179\n",
       "33. 19378102\n",
       "34. 9535483\n",
       "35. 672591\n",
       "36. 11536504\n",
       "37. 3751351\n",
       "38. 3831074\n",
       "39. 12702379\n",
       "40. 1052567\n",
       "41. 4625364\n",
       "42. 814180\n",
       "43. 6346105\n",
       "44. 25145561\n",
       "45. 2763885\n",
       "46. 625741\n",
       "47. 8001024\n",
       "48. 6724540\n",
       "49. 1852994\n",
       "50. 5686986\n",
       "51. 563626\n",
       "\n",
       "\n"
      ],
      "text/plain": [
       " [1]  4779736   710231  6392017  2915918 37253956  5029196  3574097   897934\n",
       " [9]   601723 19687653  9920000  1360301  1567582 12830632  6483802  3046355\n",
       "[17]  2853118  4339367  4533372  1328361  5773552  6547629  9883640  5303925\n",
       "[25]  2967297  5988927   989415  1826341  2700551  1316470  8791894  2059179\n",
       "[33] 19378102  9535483   672591 11536504  3751351  3831074 12702379  1052567\n",
       "[41]  4625364   814180  6346105 25145561  2763885   625741  8001024  6724540\n",
       "[49]  1852994  5686986   563626"
      ]
     },
     "metadata": {},
     "output_type": "display_data"
    }
   ],
   "source": [
    "murders$population"
   ]
  },
  {
   "cell_type": "markdown",
   "metadata": {},
   "source": [
    "It is important to know that the order of the entries in the vector 'murders$population' preserves the order of the rows in the data frame. As we will see, this will later permit us to manipulate one variable based on the results of another. To discover the number of entries in a vector we can use the function __length__, and to discover the data type of the entries in that vector we can use the function __class__:"
   ]
  },
  {
   "cell_type": "code",
   "execution_count": 27,
   "metadata": {},
   "outputs": [
    {
     "data": {
      "text/html": [
       "51"
      ],
      "text/latex": [
       "51"
      ],
      "text/markdown": [
       "51"
      ],
      "text/plain": [
       "[1] 51"
      ]
     },
     "metadata": {},
     "output_type": "display_data"
    },
    {
     "data": {
      "text/html": [
       "'numeric'"
      ],
      "text/latex": [
       "'numeric'"
      ],
      "text/markdown": [
       "'numeric'"
      ],
      "text/plain": [
       "[1] \"numeric\""
      ]
     },
     "metadata": {},
     "output_type": "display_data"
    }
   ],
   "source": [
    "pop <- murders$population\n",
    "length(pop)\n",
    "class(pop)"
   ]
  },
  {
   "cell_type": "markdown",
   "metadata": {},
   "source": [
    "Besides numbers, it is possible to store characters in R too. Because variables also use character strings, we have to use quotes to distinguish between variable names and character strings."
   ]
  },
  {
   "cell_type": "code",
   "execution_count": 28,
   "metadata": {},
   "outputs": [
    {
     "data": {
      "text/html": [
       "1"
      ],
      "text/latex": [
       "1"
      ],
      "text/markdown": [
       "1"
      ],
      "text/plain": [
       "[1] 1"
      ]
     },
     "metadata": {},
     "output_type": "display_data"
    },
    {
     "data": {
      "text/html": [
       "'a'"
      ],
      "text/latex": [
       "'a'"
      ],
      "text/markdown": [
       "'a'"
      ],
      "text/plain": [
       "[1] \"a\""
      ]
     },
     "metadata": {},
     "output_type": "display_data"
    }
   ],
   "source": [
    "a <- 1\n",
    "a\n",
    "\"a\""
   ]
  },
  {
   "cell_type": "markdown",
   "metadata": {},
   "source": [
    "When we used str(murders) above, we saw that the column _state_ contains characters:"
   ]
  },
  {
   "cell_type": "code",
   "execution_count": 29,
   "metadata": {},
   "outputs": [
    {
     "data": {
      "text/html": [
       "'character'"
      ],
      "text/latex": [
       "'character'"
      ],
      "text/markdown": [
       "'character'"
      ],
      "text/plain": [
       "[1] \"character\""
      ]
     },
     "metadata": {},
     "output_type": "display_data"
    }
   ],
   "source": [
    "class(murders$state)"
   ]
  },
  {
   "cell_type": "markdown",
   "metadata": {},
   "source": [
    "Another type of vector is _logical vector_. We don't have any example of it in this particular data frame, but we need to mention them. Its values must be __TRUE__ or __FALSE__:"
   ]
  },
  {
   "cell_type": "code",
   "execution_count": 30,
   "metadata": {},
   "outputs": [
    {
     "data": {
      "text/html": [
       "FALSE"
      ],
      "text/latex": [
       "FALSE"
      ],
      "text/markdown": [
       "FALSE"
      ],
      "text/plain": [
       "[1] FALSE"
      ]
     },
     "metadata": {},
     "output_type": "display_data"
    },
    {
     "data": {
      "text/html": [
       "'logical'"
      ],
      "text/latex": [
       "'logical'"
      ],
      "text/markdown": [
       "'logical'"
      ],
      "text/plain": [
       "[1] \"logical\""
      ]
     },
     "metadata": {},
     "output_type": "display_data"
    }
   ],
   "source": [
    "z <- 3 == 2\n",
    "z\n",
    "class(z)"
   ]
  },
  {
   "cell_type": "markdown",
   "metadata": {},
   "source": [
    "There's one more data type we need to cover: _factor_. In the murders dataset, we have the column _region_, which some of us might think is of characters. This is not correct, as we can see in the output of str(murders).\n",
    "\n",
    "Factors are useful for storing what is called categorical data, such as the regions of the US. We can see the four levels of a factor using the function __levels__:"
   ]
  },
  {
   "cell_type": "code",
   "execution_count": 31,
   "metadata": {},
   "outputs": [
    {
     "data": {
      "text/html": [
       "<ol class=list-inline>\n",
       "\t<li>'Northeast'</li>\n",
       "\t<li>'South'</li>\n",
       "\t<li>'North Central'</li>\n",
       "\t<li>'West'</li>\n",
       "</ol>\n"
      ],
      "text/latex": [
       "\\begin{enumerate*}\n",
       "\\item 'Northeast'\n",
       "\\item 'South'\n",
       "\\item 'North Central'\n",
       "\\item 'West'\n",
       "\\end{enumerate*}\n"
      ],
      "text/markdown": [
       "1. 'Northeast'\n",
       "2. 'South'\n",
       "3. 'North Central'\n",
       "4. 'West'\n",
       "\n",
       "\n"
      ],
      "text/plain": [
       "[1] \"Northeast\"     \"South\"         \"North Central\" \"West\"         "
      ]
     },
     "metadata": {},
     "output_type": "display_data"
    }
   ],
   "source": [
    "levels(murders$region)"
   ]
  },
  {
   "cell_type": "markdown",
   "metadata": {},
   "source": [
    "Saving categorical data as factors is more memory efficient: in the background, R stores integers (technically, integers are smaller memory-wise than characters).\n",
    "\n",
    "However, factor are also a source of confusion, as they can easily be confused with characters. In general, it is recommended avoiding factors as much as possible, although they are sometimes necessary to fit statistical models that depend on categorical data"
   ]
  }
 ],
 "metadata": {
  "kernelspec": {
   "display_name": "R",
   "language": "R",
   "name": "ir"
  },
  "language_info": {
   "codemirror_mode": "r",
   "file_extension": ".r",
   "mimetype": "text/x-r-source",
   "name": "R",
   "pygments_lexer": "r",
   "version": "3.5.1"
  }
 },
 "nbformat": 4,
 "nbformat_minor": 2
}
